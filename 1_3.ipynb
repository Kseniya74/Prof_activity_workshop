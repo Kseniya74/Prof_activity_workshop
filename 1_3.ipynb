{
  "nbformat": 4,
  "nbformat_minor": 0,
  "metadata": {
    "colab": {
      "provenance": [],
      "authorship_tag": "ABX9TyP3y4+DTAfEOu9mwQkal4SQ",
      "include_colab_link": true
    },
    "kernelspec": {
      "name": "python3",
      "display_name": "Python 3"
    },
    "language_info": {
      "name": "python"
    }
  },
  "cells": [
    {
      "cell_type": "markdown",
      "metadata": {
        "id": "view-in-github",
        "colab_type": "text"
      },
      "source": [
        "<a href=\"https://colab.research.google.com/github/Kseniya74/Prof_activity_workshop/blob/main/1_3.ipynb\" target=\"_parent\"><img src=\"https://colab.research.google.com/assets/colab-badge.svg\" alt=\"Open In Colab\"/></a>"
      ]
    },
    {
      "cell_type": "markdown",
      "source": [
        "# **Module 1.3**"
      ],
      "metadata": {
        "id": "QABW5u7NhLit"
      }
    },
    {
      "cell_type": "markdown",
      "source": [
        "**Task 1**"
      ],
      "metadata": {
        "id": "u0HPJT55hOvw"
      }
    },
    {
      "cell_type": "code",
      "execution_count": null,
      "metadata": {
        "id": "KI00rOsLhIju"
      },
      "outputs": [],
      "source": [
        "import pandas as pd\n",
        "import numpy as np\n",
        "\n",
        "df = pd.DataFrame(data=np.arange(start=1, stop=21), columns=['data'])\n",
        "\n",
        "df1 = df[(df['data'] > 1) & (df['data'] < 20)] # Ans: 1 and 20"
      ]
    },
    {
      "cell_type": "markdown",
      "source": [
        "**Task 2**"
      ],
      "metadata": {
        "id": "4evlzr-njSMB"
      }
    },
    {
      "cell_type": "code",
      "source": [
        "import pandas as pd\n",
        "import numpy as np\n",
        "\n",
        "df = pd.DataFrame(data=np.arange(20).reshape(4,5), columns=list('abcde')) # Ans: 20, 4, 5, abcde\n",
        "\n",
        "print(df)\n",
        "\n",
        "df['f'] = df['a']+ df['b']+ df['c']+ df['d']+ df['e']\n",
        "\n",
        "print(df)"
      ],
      "metadata": {
        "colab": {
          "base_uri": "https://localhost:8080/"
        },
        "id": "Zwx6S0e7jUhQ",
        "outputId": "0f4225b6-610b-4f0a-95a9-57fec89f2241"
      },
      "execution_count": null,
      "outputs": [
        {
          "output_type": "stream",
          "name": "stdout",
          "text": [
            "    a   b   c   d   e\n",
            "0   0   1   2   3   4\n",
            "1   5   6   7   8   9\n",
            "2  10  11  12  13  14\n",
            "3  15  16  17  18  19\n",
            "    a   b   c   d   e   f\n",
            "0   0   1   2   3   4  10\n",
            "1   5   6   7   8   9  35\n",
            "2  10  11  12  13  14  60\n",
            "3  15  16  17  18  19  85\n"
          ]
        }
      ]
    },
    {
      "cell_type": "markdown",
      "source": [
        "**Task 3**"
      ],
      "metadata": {
        "id": "MYpKeJiGP81o"
      }
    },
    {
      "cell_type": "code",
      "source": [
        "import numpy as np\n",
        "import pandas as pd\n",
        "\n",
        "df = pd.read_csv(input.csv)\n",
        "\n",
        "missing_values = df.isna().any().any()\n",
        "print(missing_values)"
      ],
      "metadata": {
        "id": "Bnp7MK-eP-KI",
        "colab": {
          "base_uri": "https://localhost:8080/"
        },
        "outputId": "e7be89fe-3464-440e-e872-e7641abb838a"
      },
      "execution_count": 17,
      "outputs": [
        {
          "output_type": "stream",
          "name": "stdout",
          "text": [
            "False\n"
          ]
        }
      ]
    },
    {
      "cell_type": "markdown",
      "source": [
        "**Task 4**"
      ],
      "metadata": {
        "id": "RshZXTR8SmSb"
      }
    },
    {
      "cell_type": "code",
      "source": [
        "import numpy as np\n",
        "import pandas as pd\n",
        "\n",
        "df = pd.read_csv(input.csv)\n",
        "\n",
        "df = df.iloc[:, 1:]\n",
        "\n",
        "abs_corrmat = df.corr().abs()\n",
        "np.fill_diagonal(abs_corrmat.values, 0)\n",
        "\n",
        "max_corr = abs_corrmat.max()\n",
        "max_corr = max_corr.round(2).fillna(0.0)\n",
        "\n",
        "ans = max_corr.tolist()\n",
        "\n",
        "if len(ans) == 1:\n",
        "    ans = [1.0]\n",
        "print(ans)"
      ],
      "metadata": {
        "id": "olikUzT1So18",
        "colab": {
          "base_uri": "https://localhost:8080/"
        },
        "outputId": "45bd0fe7-a9fc-4688-ebf5-53bb8752bb36"
      },
      "execution_count": 2,
      "outputs": [
        {
          "output_type": "stream",
          "name": "stdout",
          "text": [
            "    p   q   r   s   t   u   v   w   x   y\n",
            "a  23  57  59  70   9  49   5  46  91  22\n",
            "b  83  25  90  39  85  63  90  35  22  66\n",
            "c  10  86  13  77  80  20  99  92  33  18\n",
            "d  42  70  37  85  63  63  59  82  41  35\n",
            "e   3  70  83  43  41  52  96  51  40  40\n",
            "f  81  86   5  54  26  89  94  11  24  30\n",
            "g  11  43  96  50  59  83  29  86  29  32\n",
            "h  52  32   6  65  25  99  15  17  97  54\n",
            "\n",
            "[0.69, 0.77, 0.6, 0.6, 0.69, 0.59, 0.78, 0.69, 0.78, 0.77]\n"
          ]
        }
      ]
    }
  ]
}