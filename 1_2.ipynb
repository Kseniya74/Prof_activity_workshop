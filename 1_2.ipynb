{
  "nbformat": 4,
  "nbformat_minor": 0,
  "metadata": {
    "colab": {
      "provenance": [],
      "authorship_tag": "ABX9TyMFC8FA/jHQY+5kI5Y3IHBt",
      "include_colab_link": true
    },
    "kernelspec": {
      "name": "python3",
      "display_name": "Python 3"
    },
    "language_info": {
      "name": "python"
    }
  },
  "cells": [
    {
      "cell_type": "markdown",
      "metadata": {
        "id": "view-in-github",
        "colab_type": "text"
      },
      "source": [
        "<a href=\"https://colab.research.google.com/github/Kseniya74/Prof_activity_workshop/blob/main/1_2.ipynb\" target=\"_parent\"><img src=\"https://colab.research.google.com/assets/colab-badge.svg\" alt=\"Open In Colab\"/></a>"
      ]
    },
    {
      "cell_type": "markdown",
      "source": [
        "# **Module 1.2**"
      ],
      "metadata": {
        "id": "KEeF_JXOmykG"
      }
    },
    {
      "cell_type": "markdown",
      "source": [
        "**Task 1**"
      ],
      "metadata": {
        "id": "Kcbt111jGe1y"
      }
    },
    {
      "cell_type": "code",
      "execution_count": 17,
      "metadata": {
        "id": "gZ4nBqP6p7hn",
        "colab": {
          "base_uri": "https://localhost:8080/"
        },
        "outputId": "7d459d8d-97df-4bf2-b8f3-ebf08c3a867c"
      },
      "outputs": [
        {
          "output_type": "stream",
          "name": "stdout",
          "text": [
            "0.0\n"
          ]
        }
      ],
      "source": [
        "import numpy as np\n",
        "\n",
        "a = np.array([5, -2, 3], float) # Ans: -2\n",
        "\n",
        "b = np.array([1, 1, -1], float) # Ans: -1\n",
        "\n",
        "print(np.dot(a, b))"
      ]
    },
    {
      "cell_type": "markdown",
      "source": [
        "**Task 2**"
      ],
      "metadata": {
        "id": "-VqMB58PHaCu"
      }
    },
    {
      "cell_type": "code",
      "source": [
        "np.eye(5, k = 2) # Ans: 2"
      ],
      "metadata": {
        "colab": {
          "base_uri": "https://localhost:8080/"
        },
        "id": "jQlMsmkOHbku",
        "outputId": "3eea31ed-1560-4ec3-9389-b332588dc655"
      },
      "execution_count": 19,
      "outputs": [
        {
          "output_type": "execute_result",
          "data": {
            "text/plain": [
              "array([[0., 0., 1., 0., 0.],\n",
              "       [0., 0., 0., 1., 0.],\n",
              "       [0., 0., 0., 0., 1.],\n",
              "       [0., 0., 0., 0., 0.],\n",
              "       [0., 0., 0., 0., 0.]])"
            ]
          },
          "metadata": {},
          "execution_count": 19
        }
      ]
    },
    {
      "cell_type": "markdown",
      "source": [
        "**Task 3**"
      ],
      "metadata": {
        "id": "Ibv76ZGWH0GN"
      }
    },
    {
      "cell_type": "code",
      "source": [
        "a = np.array([[1, 2, 3], [4, 5, 6]], int)\n",
        "\n",
        "a.reshape(3, 2)\n",
        "\n",
        "a.flatten()\n",
        "\n",
        "print(a.shape)"
      ],
      "metadata": {
        "colab": {
          "base_uri": "https://localhost:8080/"
        },
        "id": "E2a_ySh9H1w9",
        "outputId": "ed38e38a-e5a4-4e57-e995-59759db2e751"
      },
      "execution_count": 22,
      "outputs": [
        {
          "output_type": "stream",
          "name": "stdout",
          "text": [
            "(2, 3)\n"
          ]
        }
      ]
    },
    {
      "cell_type": "markdown",
      "source": [
        "**Task 4**"
      ],
      "metadata": {
        "id": "nud1E9oxIcaK"
      }
    },
    {
      "cell_type": "code",
      "source": [
        "import numpy as np\n",
        "\n",
        "matrix = []\n",
        "while True:\n",
        "    try:\n",
        "        row = input().split()\n",
        "        if not row:\n",
        "            break\n",
        "        matrix.append(list(map(int, row)))\n",
        "    except EOFError:\n",
        "        break\n",
        "\n",
        "matrix = np.array(matrix)\n",
        "\n",
        "print((matrix==0).all(axis=0).sum())"
      ],
      "metadata": {
        "colab": {
          "base_uri": "https://localhost:8080/"
        },
        "id": "G6IbMZ3ZIbav",
        "outputId": "cdce4a30-70a7-4c55-9c48-01c5ff6dfbf0"
      },
      "execution_count": 24,
      "outputs": [
        {
          "output_type": "stream",
          "name": "stdout",
          "text": [
            "0 0 0\n",
            "0 1 0\n",
            "\n",
            "2\n"
          ]
        }
      ]
    },
    {
      "cell_type": "markdown",
      "source": [
        "**Task 5**"
      ],
      "metadata": {
        "id": "-wcfoE8uMUrJ"
      }
    },
    {
      "cell_type": "code",
      "source": [
        "import numpy as np\n",
        "\n",
        "matrix = []\n",
        "while True:\n",
        "    try:\n",
        "        row = input().split()\n",
        "        if not row:\n",
        "            break\n",
        "        matrix.append(list(map(int, row)))\n",
        "    except EOFError:\n",
        "        break\n",
        "\n",
        "matrix = np.array(matrix)\n",
        "\n",
        "means = np.mean(matrix, axis=1, keepdims=True)\n",
        "\n",
        "res = matrix - means\n",
        "\n",
        "print(res)"
      ],
      "metadata": {
        "colab": {
          "base_uri": "https://localhost:8080/"
        },
        "id": "vWzavxySMWv2",
        "outputId": "fa43aeea-f79b-410e-c4fb-7b7fd32d99da"
      },
      "execution_count": 26,
      "outputs": [
        {
          "output_type": "stream",
          "name": "stdout",
          "text": [
            "0 1\n",
            "0 2\n",
            "\n",
            "[[-0.5  0.5]\n",
            " [-1.   1. ]]\n"
          ]
        }
      ]
    }
  ]
}