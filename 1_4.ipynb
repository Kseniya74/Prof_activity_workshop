{
  "nbformat": 4,
  "nbformat_minor": 0,
  "metadata": {
    "colab": {
      "provenance": [],
      "authorship_tag": "ABX9TyPMbD3QdAoCem5yL87ubQIo",
      "include_colab_link": true
    },
    "kernelspec": {
      "name": "python3",
      "display_name": "Python 3"
    },
    "language_info": {
      "name": "python"
    }
  },
  "cells": [
    {
      "cell_type": "markdown",
      "metadata": {
        "id": "view-in-github",
        "colab_type": "text"
      },
      "source": [
        "<a href=\"https://colab.research.google.com/github/Kseniya74/Prof_activity_workshop/blob/main/1_4.ipynb\" target=\"_parent\"><img src=\"https://colab.research.google.com/assets/colab-badge.svg\" alt=\"Open In Colab\"/></a>"
      ]
    },
    {
      "cell_type": "markdown",
      "source": [
        "# **Module 1.4**"
      ],
      "metadata": {
        "id": "-xx8aLZfFUBB"
      }
    },
    {
      "cell_type": "markdown",
      "source": [
        "**Task 1**"
      ],
      "metadata": {
        "id": "gWnPXOI1FXjH"
      }
    },
    {
      "cell_type": "code",
      "execution_count": 2,
      "metadata": {
        "colab": {
          "base_uri": "https://localhost:8080/"
        },
        "id": "CmdIBObYB69X",
        "outputId": "c496d069-6a69-4232-a892-18b3224476dd"
      },
      "outputs": [
        {
          "output_type": "stream",
          "name": "stdout",
          "text": [
            "4.0\n"
          ]
        }
      ],
      "source": [
        "X = [1, 1, 2, 5, 6, 7, 3, 4, 5, 6]\n",
        "m = sum(X)/len(X)\n",
        "print(m)"
      ]
    },
    {
      "cell_type": "markdown",
      "source": [
        "**Task 2**"
      ],
      "metadata": {
        "id": "WWZMzXAmGUSs"
      }
    },
    {
      "cell_type": "code",
      "source": [
        "import numpy as np\n",
        "\n",
        "X = [1, 1, 2, 5, 6, 7, 3, 4, 5, 6]\n",
        "m = sum(X)/len(X)\n",
        "a = np.array(X) - int(m)\n",
        "D = sum((a)**2)/len(X)\n",
        "print(D)"
      ],
      "metadata": {
        "colab": {
          "base_uri": "https://localhost:8080/"
        },
        "id": "8TCvH14_GWhz",
        "outputId": "8f5dc4ea-54d8-4526-fd32-6fb200e72a5d"
      },
      "execution_count": 3,
      "outputs": [
        {
          "output_type": "stream",
          "name": "stdout",
          "text": [
            "4.2\n"
          ]
        }
      ]
    },
    {
      "cell_type": "markdown",
      "source": [
        "**Task 3**"
      ],
      "metadata": {
        "id": "bRqW9cUXHSUb"
      }
    },
    {
      "cell_type": "code",
      "source": [
        "import numpy as np\n",
        "\n",
        "X = [1, 1, 2, 5, 6, 7, 3, 4, 5, 6]\n",
        "m = sum(X)/len(X)\n",
        "a = np.array(X) - int(m)\n",
        "D = sum((a)**2)/len(X)\n",
        "\n",
        "sd = D**(1/2)\n",
        "print(sd)"
      ],
      "metadata": {
        "colab": {
          "base_uri": "https://localhost:8080/"
        },
        "id": "x3d7OqTvHT_A",
        "outputId": "b5c86107-b812-496a-ac80-592abc85d34b"
      },
      "execution_count": 7,
      "outputs": [
        {
          "output_type": "stream",
          "name": "stdout",
          "text": [
            "2.04939015319192\n"
          ]
        }
      ]
    },
    {
      "cell_type": "markdown",
      "source": [
        "**Task 4**"
      ],
      "metadata": {
        "id": "WuDagKv7IUmH"
      }
    },
    {
      "cell_type": "code",
      "source": [
        "import numpy as np\n",
        "\n",
        "X1 = [1, 5, 6, 2, 8, 4, 3]\n",
        "X2= [545, 546, 550, 544, 548, 547, 543]\n",
        "m1 = sum(X1)/len(X1)\n",
        "m2 = sum(X2)/len(X2)\n",
        "a1 = np.array(X1) - int(m1)\n",
        "a2 = np.array(X2) - int(m2)\n",
        "\n",
        "D1 = sum((a1)**2)/len(X1)\n",
        "D2 = sum((a2)**2)/len(X2)\n",
        "print(D2 - D1)"
      ],
      "metadata": {
        "colab": {
          "base_uri": "https://localhost:8080/"
        },
        "id": "0E-3LzyxIV6r",
        "outputId": "f97052e0-f1a3-4065-a8fa-cd1d81bd7d6e"
      },
      "execution_count": 8,
      "outputs": [
        {
          "output_type": "stream",
          "name": "stdout",
          "text": [
            "0.0\n"
          ]
        }
      ]
    },
    {
      "cell_type": "markdown",
      "source": [
        "**Task 5**"
      ],
      "metadata": {
        "id": "wTovAi8BI0kz"
      }
    },
    {
      "cell_type": "code",
      "source": [
        "import numpy as np\n",
        "\n",
        "X1 = [3, 5, 3, 6, 7, 2, 1, 0, 15, 4]\n",
        "X2 = [-3, -2, 6, 8, 4, 1, 0, 8, 2, 8]\n",
        "\n",
        "print(np.corrcoef(X1, X2))"
      ],
      "metadata": {
        "colab": {
          "base_uri": "https://localhost:8080/"
        },
        "id": "LgQZp56PI11r",
        "outputId": "f93b9897-7b27-43b4-b3b3-535d30a4b71a"
      },
      "execution_count": 9,
      "outputs": [
        {
          "output_type": "stream",
          "name": "stdout",
          "text": [
            "[[ 1.        -0.0509336]\n",
            " [-0.0509336  1.       ]]\n"
          ]
        }
      ]
    }
  ]
}