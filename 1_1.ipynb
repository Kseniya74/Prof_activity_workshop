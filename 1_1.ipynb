{
  "nbformat": 4,
  "nbformat_minor": 0,
  "metadata": {
    "colab": {
      "provenance": [],
      "authorship_tag": "ABX9TyMuZVP4ltXQyVo9vi6bStm7",
      "include_colab_link": true
    },
    "kernelspec": {
      "name": "python3",
      "display_name": "Python 3"
    },
    "language_info": {
      "name": "python"
    }
  },
  "cells": [
    {
      "cell_type": "markdown",
      "metadata": {
        "id": "view-in-github",
        "colab_type": "text"
      },
      "source": [
        "<a href=\"https://colab.research.google.com/github/Kseniya74/Prof_activity_workshop/blob/main/1_1.ipynb\" target=\"_parent\"><img src=\"https://colab.research.google.com/assets/colab-badge.svg\" alt=\"Open In Colab\"/></a>"
      ]
    },
    {
      "cell_type": "markdown",
      "source": [
        "# **Module 1.1**"
      ],
      "metadata": {
        "id": "KEeF_JXOmykG"
      }
    },
    {
      "cell_type": "markdown",
      "source": [
        "**Task 2**"
      ],
      "metadata": {
        "id": "jMyAJv4VmrjG"
      }
    },
    {
      "cell_type": "code",
      "source": [
        "ex = [2, 3, 4, 5, 6, 5, 4, 3, 2, 3, 8, 5, 6] # 6 and 4\n",
        "\n",
        "arr = [[i]*i for i in ex if i % 2 == 0]"
      ],
      "metadata": {
        "id": "eY48_03ImdOo"
      },
      "execution_count": null,
      "outputs": []
    },
    {
      "cell_type": "markdown",
      "source": [
        "**Task 4**"
      ],
      "metadata": {
        "id": "foMV28Apm_uO"
      }
    },
    {
      "cell_type": "code",
      "execution_count": 2,
      "metadata": {
        "id": "UvZlxCb8SDQU",
        "colab": {
          "base_uri": "https://localhost:8080/"
        },
        "outputId": "877a243b-cee1-4ba9-8040-798c1cade6da"
      },
      "outputs": [
        {
          "output_type": "stream",
          "name": "stdout",
          "text": [
            "0 1 0 0 1 1 2 0\n",
            "True\n"
          ]
        }
      ],
      "source": [
        "import math\n",
        "\n",
        "def point_and_area(x, y, x1, y1, x2, y2, r, s):\n",
        "  if s == 0:\n",
        "    return point_in_rectangle or point_in_circle\n",
        "  elif s == 1:\n",
        "    return point_in_rectangle and point_in_circle\n",
        "  else:\n",
        "    return False\n",
        "\n",
        "x, y, x1, y1, x2, y2, r, s = map(float, input().split())\n",
        "\n",
        "point_in_rectangle = (x1 <= x <= x2) and (y1 <= y <= y2)\n",
        "point_in_circle = (x ** 2 + y ** 2) <= r ** 2\n",
        "\n",
        "res = point_and_area(x, y, x1, y1, x2, y2, r, s)\n",
        "print(res)"
      ]
    },
    {
      "cell_type": "markdown",
      "source": [
        "**Task 5**"
      ],
      "metadata": {
        "id": "BzPpJSxenDiO"
      }
    },
    {
      "cell_type": "code",
      "source": [
        "data = input()\n",
        "counter = 0\n",
        "\n",
        "for i in range(len(data) - 1, 0, -1):\n",
        "  if data[i] == 'a':\n",
        "    counter += 1\n",
        "\n",
        "print(counter)"
      ],
      "metadata": {
        "colab": {
          "base_uri": "https://localhost:8080/"
        },
        "id": "_6g8JDDjnFXo",
        "outputId": "259219c5-88ac-4704-f237-df05e9e866df"
      },
      "execution_count": 5,
      "outputs": [
        {
          "output_type": "stream",
          "name": "stdout",
          "text": [
            "baaa\n",
            "3\n"
          ]
        }
      ]
    }
  ]
}